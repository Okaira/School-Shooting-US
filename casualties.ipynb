{
 "cells": [
  {
   "cell_type": "code",
   "execution_count": 1,
   "metadata": {},
   "outputs": [],
   "source": [
    "import mysql.connector as connector"
   ]
  },
  {
   "cell_type": "code",
   "execution_count": 2,
   "metadata": {},
   "outputs": [],
   "source": [
    "connection = connector.connect(user=\"root\", password=\"opakaira\")"
   ]
  },
  {
   "cell_type": "code",
   "execution_count": 3,
   "metadata": {},
   "outputs": [
    {
     "name": "stdout",
     "output_type": "stream",
     "text": [
      "Cursor is created to communicate with the MySQL using Python.\n"
     ]
    }
   ],
   "source": [
    "# Create cursor object to communicate with entire MySQL database\n",
    "cursor = connection.cursor()\n",
    "print(\"Cursor is created to communicate with the MySQL using Python.\")"
   ]
  },
  {
   "cell_type": "code",
   "execution_count": 4,
   "metadata": {},
   "outputs": [
    {
     "name": "stdout",
     "output_type": "stream",
     "text": [
      "The database 'School_Shootings_db' is created.\n",
      "\n",
      "The database School_Shootings_db is set for use.\n"
     ]
    }
   ],
   "source": [
    "# Use try-except block to create a database named \"School_Shootings_db\"\n",
    "# If the database already exists then drop the database first, then create it again.\n",
    "try:\n",
    "    cursor.execute(\"CREATE DATABASE School_Shootings_db\")\n",
    "except:\n",
    "    cursor.execute(\"DROP DATABASE School_Shootings_db\")\n",
    "    cursor.execute(\"CREATE DATABASE School_Shootings_db\")\n",
    "print(\"The database 'School_Shootings_db' is created.\\n\")    \n",
    "Í\n",
    "# Set School_Shootings_db database for use \n",
    "cursor.execute(\"USE School_Shootings_db\")\n",
    "print(\"The database School_Shootings_db is set for use.\")"
   ]
  },
  {
   "cell_type": "code",
   "execution_count": 6,
   "metadata": {},
   "outputs": [
    {
     "name": "stdout",
     "output_type": "stream",
     "text": [
      "The School table is created.\n",
      "\n"
     ]
    }
   ],
   "source": [
    "# The SQL query for the School table is: \n",
    "Create_School_Table =\"\"\"\n",
    "CREATE TABLE IF NOT EXISTS School (\n",
    "    SchoolID INT,\n",
    "    Name VARCHAR(255),\n",
    "    SchoolType VARCHAR(255),\n",
    "    Enrollment INT\n",
    ");\"\"\"\n",
    "\n",
    "# Create School table\n",
    "cursor.execute(Create_School_Table)\n",
    "print(\"The School table is created.\\n\")\n",
    "\n",
    "connection.commit()"
   ]
  },
  {
   "cell_type": "code",
   "execution_count": 7,
   "metadata": {},
   "outputs": [
    {
     "name": "stdout",
     "output_type": "stream",
     "text": [
      "The Shooter table is created.\n",
      "\n"
     ]
    }
   ],
   "source": [
    "# The SQL query for the Shooter table is: \n",
    "Create_Shooter_Table =\"\"\"\n",
    "CREATE TABLE IF NOT EXISTS Shooter (\n",
    "    ShooterID INT,\n",
    "    Name VARCHAR(255),\n",
    "    Age INT,\n",
    "    Gender VARCHAR(10),\n",
    "    Ethnicity VARCHAR(255)\n",
    ");\"\"\"\n",
    "\n",
    "# Create Shooter table\n",
    "cursor.execute(Create_Shooter_Table)\n",
    "print(\"The Shooter table is created.\\n\")\n",
    "\n",
    "connection.commit()"
   ]
  },
  {
   "cell_type": "code",
   "execution_count": 8,
   "metadata": {},
   "outputs": [
    {
     "name": "stdout",
     "output_type": "stream",
     "text": [
      "The Location table is created.\n",
      "\n"
     ]
    }
   ],
   "source": [
    "# The SQL query for the Location table is: \n",
    "Create_Location_Table =\"\"\"\n",
    "CREATE TABLE IF NOT EXISTS Location (\n",
    "    LocationID INT PRIMARY KEY,\n",
    "    District VARCHAR(255),\n",
    "    County VARCHAR(255),\n",
    "    City VARCHAR(255),\n",
    "    State VARCHAR(255)\n",
    ");\"\"\"\n",
    "\n",
    "# Create Location table\n",
    "cursor.execute(Create_Location_Table)\n",
    "print(\"The Location table is created.\\n\")\n",
    "\n",
    "connection.commit()"
   ]
  },
  {
   "cell_type": "code",
   "execution_count": 11,
   "metadata": {},
   "outputs": [
    {
     "name": "stdout",
     "output_type": "stream",
     "text": [
      "The Incident table is created.\n",
      "\n"
     ]
    }
   ],
   "source": [
    "# The SQL query for the Incident table is: \n",
    "Create_Incident_Table =\"\"\"\n",
    "CREATE TABLE IF NOT EXISTS Incident (\n",
    "  IncidentID INT PRIMARY KEY,\n",
    "  Date DATE,\n",
    "  SchoolID INT,\n",
    "  ShooterID INT,\n",
    "  LocationID INT,\n",
    "  FOREIGN KEY (SchoolID) REFERENCES School(SchoolID),\n",
    "  FOREIGN KEY (ShooterID) REFERENCES Shooter(ShooterID),\n",
    "  FOREIGN KEY (LocationID) REFERENCES Location(LocationID)\n",
    ");\n",
    "\"\"\"\n",
    "\n",
    "# Create Incident table\n",
    "cursor.execute(Create_Incident_Table)\n",
    "print(\"The Incident table is created.\\n\")\n",
    "\n",
    "connection.commit()"
   ]
  },
  {
   "cell_type": "code",
   "execution_count": null,
   "metadata": {},
   "outputs": [],
   "source": []
  }
 ],
 "metadata": {
  "kernelspec": {
   "display_name": "Python 3",
   "language": "python",
   "name": "python3"
  },
  "language_info": {
   "codemirror_mode": {
    "name": "ipython",
    "version": 3
   },
   "file_extension": ".py",
   "mimetype": "text/x-python",
   "name": "python",
   "nbconvert_exporter": "python",
   "pygments_lexer": "ipython3",
   "version": "3.9.6"
  },
  "orig_nbformat": 4
 },
 "nbformat": 4,
 "nbformat_minor": 2
}
